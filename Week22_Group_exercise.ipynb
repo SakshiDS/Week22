{
 "cells": [
  {
   "cell_type": "markdown",
   "metadata": {},
   "source": [
    "#### 1. Use Splinter and/or Beautiful Soup to scrape mercadolibre.com.mx or soundcloud.com or tripadvisor.com. You must programmatically click a link from the front page to go to another page of interest to you and then select at least 5 items from that page. The 5 items must be stored in a data structure that makes sense (dictionary, list, etc)."
   ]
  },
  {
   "cell_type": "code",
   "execution_count": 53,
   "metadata": {},
   "outputs": [],
   "source": [
    "import pandas as pd"
   ]
  },
  {
   "cell_type": "code",
   "execution_count": 30,
   "metadata": {},
   "outputs": [
    {
     "data": {
      "text/plain": [
       "<Response [200]>"
      ]
     },
     "execution_count": 30,
     "metadata": {},
     "output_type": "execute_result"
    }
   ],
   "source": [
    "from bs4 import BeautifulSoup as bs\n",
    "import requests\n",
    "\n",
    "\n",
    "url ='https://soundcloud.com/'\n",
    "\n",
    "\n",
    "response = requests.get(url)\n",
    "response"
   ]
  },
  {
   "cell_type": "code",
   "execution_count": 31,
   "metadata": {},
   "outputs": [
    {
     "name": "stdout",
     "output_type": "stream",
     "text": [
      "<!DOCTYPE html>\n",
      "<html lang=\"en\">\n",
      " <head>\n",
      "  <meta charset=\"utf-8\"/>\n",
      "  <meta content=\"#333\" name=\"theme-color\"/>\n",
      "  <link href=\"//style.sndcdn.com\" rel=\"dns-prefetch\"/>\n",
      "  <link href=\"//a-v2.sndcdn.com\" rel=\"dns-prefetch\"/>\n",
      "  <link href=\"//api-v2.soundcloud.com\" rel=\"dns-prefetch\"/>\n",
      "  <link href=\"//sb.scorecardresearch.com\" rel=\"dns-prefetch\"/>\n",
      "  <link href=\"//secure.quantserve.com\" rel=\"dns-prefetch\"/>\n",
      "  <link href=\"//eventlogger.soundcloud.com\" rel=\"dns-prefetch\"/>\n",
      "  <link href=\"//api.soundcloud.com\" rel=\"dns-prefetch\"/>\n",
      "  <link href=\"//ssl.google-analytics.com\" rel=\"dns-prefetch\"/>\n",
      "  <link href=\"//i1.sndcdn.com\" rel=\"dns-prefetch\"/>\n",
      "  <link href=\"//i2.sndcdn.com\" rel=\"dns-prefetch\"/>\n",
      "  <link href=\"//i3.sndcdn.com\" rel=\"dns-prefetch\"/>\n",
      "  <link href=\"//i4.sndcdn.com\" rel=\"dns-prefetch\"/>\n",
      "  <link href=\"//wis.sndcdn.com\" rel=\"dns-prefetch\"/>\n",
      "  <link href=\"//va.sndcdn.com\" rel=\"dns-prefetch\"/>\n",
      "  <link href=\"//pixel.quantserve.com\" rel=\"dns-prefetch\"/>\n",
      "  <title>\n",
      "   Stream and listen to music online for free with SoundCloud\n",
      "  </title>\n",
      "  <meta content=\"record, sounds, share, sound, audio, tracks, music, soundcloud\" name=\"keywords\"/>\n",
      "  <meta content=\"origin\" name=\"referrer\"/>\n",
      "  <meta content=\"dY0CigqM8Inubs_hgrYMwk-zGchKwrvJLcvI_G8631Q\" name=\"google-site-verification\"/>\n",
      "  <link crossorigin=\"use-credentials\" href=\"/webmanifest.json\" rel=\"manifest\"/>\n",
      "  <meta content=\"width=device-width,minimum-scale=1,maximum-scale=1,user-scalable=no\" name=\"viewport\"/>\n",
      "  <meta content=\"19507961798\" property=\"fb:app_id\"/>\n",
      "  <meta content=\"SoundCloud\" property=\"og:site_name\"/>\n",
      "  <meta content=\"SoundCloud\" property=\"twitter:site\"/>\n",
      "  <meta content=\"SoundCloud\" property=\"twitter:app:name:iphone\"/>\n",
      "  <meta content=\"336353151\" property=\"twitter:app:id:iphone\"/>\n",
      "  <meta content=\"SoundCloud\" property=\"twitter:app:name:ipad\"/>\n",
      "  <meta content=\"336353151\" property=\"twitter:app:id:ipad\"/>\n",
      "  <meta content=\"SoundCloud\" property=\"twitter:app:name:googleplay\"/>\n",
      "  <meta content=\"com.soundcloud.android\" property=\"twitter:app:id:googleplay\"/>\n",
      "  <link href=\"/sc-opensearch.xml\" rel=\"search\" title=\"SoundCloud\" type=\"application/opensearchdescription+xml\"/>\n",
      "  <meta content=\"Discover and play over 265 million music tracks. Join the worldâs largest online community of artists, bands, DJs, and audio creators.\" name=\"description\"/>\n",
      "  <meta content=\"SoundCloud\" property=\"twitter:app:name:iphone\"/>\n",
      "  <meta content=\"336353151\" property=\"twitter:app:id:iphone\"/>\n",
      "  <meta content=\"SoundCloud\" property=\"twitter:app:name:ipad\"/>\n",
      "  <meta content=\"336353151\" property=\"twitter:app:id:ipad\"/>\n",
      "  <meta content=\"SoundCloud\" property=\"twitter:app:name:googleplay\"/>\n",
      "  <meta content=\"com.soundcloud.android\" property=\"twitter:app:id:googleplay\"/>\n",
      "  <meta content=\"summary_large_image\" property=\"twitter:card\"/>\n",
      "  <meta content=\"Stream and listen to music online for free with SoundCloud\" property=\"twitter:title\"/>\n",
      "  <meta content=\"Discover and play over 265 million music tracks. Join the worldâs largest online community of artists, bands, DJs, and audio creators.\" property=\"twitter:description\"/>\n",
      "  <meta content=\"https://a-v2.sndcdn.com/assets/images/meta/soundcloud-unfurl.png\" property=\"twitter:image\"/>\n",
      "  <meta content=\"SoundCloud\" property=\"al:ios:app_name\"/>\n",
      "  <meta content=\"336353151\" property=\"al:ios:app_store_id\"/>\n",
      "  <meta content=\"SoundCloud\" property=\"al:android:app_name\"/>\n",
      "  <meta content=\"com.soundcloud.android\" property=\"al:android:package\"/>\n",
      "  <meta content=\"soundcloud://page/authentication\" property=\"al:ios:url\"/>\n",
      "  <meta content=\"soundcloud://home\" property=\"al:android:url\"/>\n",
      "  <meta content=\"website\" property=\"og:type\"/>\n",
      "  <meta content=\"https://soundcloud.com/\" property=\"og:url\"/>\n",
      "  <meta content=\"Stream and listen to music online for free with SoundCloud\" property=\"og:title\"/>\n",
      "  <meta content=\"Discover and play over 265 million music tracks. Join the worldâs largest online community of artists, bands, DJs, and audio creators.\" property=\"og:description\"/>\n",
      "  <meta content=\"https://a-v2.sndcdn.com/assets/images/meta/soundcloud-unfurl-square.png\" property=\"og:image\"/>\n",
      "  <meta content=\"https://a-v2.sndcdn.com/assets/images/meta/soundcloud-unfurl-square.png\" property=\"og:image:secure_url\"/>\n",
      "  <link href=\"https://soundcloud.com/\" rel=\"canonical\"/>\n",
      "  <link href=\"https://m.soundcloud.com/\" media=\"only screen and (max-width: 640px)\" rel=\"alternate\"/>\n",
      "  <link href=\"android-app://com.soundcloud.android/soundcloud/home\" rel=\"alternate\"/>\n",
      "  <link href=\"ios-app://336353151/soundcloud/home\" rel=\"alternate\"/>\n",
      "  <meta content=\"SoundCloud\" name=\"application-name\"/>\n",
      "  <meta content=\"Launch SoundCloud\" name=\"msapplication-tooltip\"/>\n",
      "  <meta content=\"https://a-v2.sndcdn.com/assets/images/sc-icons/win8-2dc974a18a.png\" name=\"msapplication-TileImage\"/>\n",
      "  <meta content=\"#ff5500\" name=\"msapplication-TileColor\"/>\n",
      "  <meta content=\"https://soundcloud.com\" name=\"msapplication-starturl\"/>\n",
      "  <link href=\"https://a-v2.sndcdn.com/assets/images/sc-icons/favicon-2cadd14bdb.ico\" rel=\"icon\"/>\n",
      "  <link href=\"https://a-v2.sndcdn.com/assets/images/sc-icons/ios-a62dfc8fe7.png\" rel=\"apple-touch-icon\"/>\n",
      "  <link href=\"https://a-v2.sndcdn.com/assets/images/sc-icons/fluid-b4e7a64b8b.png\" rel=\"fluid-icon\"/>\n",
      "  <script>\n",
      "   !function(){var o,a,e;function i(a){return a.test(o)}o=window.navigator.userAgent.toLowerCase();var r,n,t,s=void 0!==window.opera&&\"[object Opera]\"===window.opera.toString(),p=o.match(/\\sopr\\/([0-9]+)\\./),d=i(/chrome/),c=i(/webkit/),m=!d&&i(/safari/),w=!s&&i(/msie/),f=!c&&i(/gecko/);r=p?parseInt(p[1],10):(t=o.match(/(opera|chrome|safari|firefox|msie)\\/?\\s*(\\.?\\d+(\\.\\d+)*)/i))&&(n=o.match(/version\\/([.\\d]+)/i))?parseInt(n[1],10):t?parseInt(t[2],10):null;var h=i(/mobile|android|iphone|ipod|symbianos|nokia|s60|playbook|playstation/);f&&(e=(a=o.match(/(firefox)\\/?\\s*(\\.?\\d+(\\.\\d+)*)/i))&&a.length>1&&parseInt(a[2],10)>=41),r&&!h&&(d&&!p&&r<40||f&&!p&&!1===e||m&&r<8||w&&r<11||s&&r<13||p&&r<27)&&(window.__sc_abortApp=!0)}()\n",
      "  </script>\n",
      "  <link href=\"https://style.sndcdn.com/css/interstate-a86f07cf94ae5a496b24.css\" rel=\"stylesheet\"/>\n",
      "  <link href=\"https://a-v2.sndcdn.com/assets/css/app-c5e3d7bf7876f1f91884.css\" rel=\"stylesheet\"/>\n",
      " </head>\n",
      " <body class=\"sc-classic ot-hide-banner\">\n",
      "  <div id=\"app\">\n",
      "   <style>\n",
      "    .header{width:100%;background:var(--background-surface-color);height:46px}.sc-classic .header{background:#333}.header__logo{background:var(--background-surface-color)}.sc-classic .header__logo{background:#333}body:not(.sc-classic) .header__logoLink{display:flex;flex-direction:column;justify-content:center;align-content:center}.header__logoLink{height:46px;width:48px}.header__logoLink svg{color:var(--primary-color)}.sc-classic .header__logoLink{background:transparent url(https://a-v2.sndcdn.com/assets/images/header/brand-1b72dd8210.svg) no-repeat 0 11px;background-size:49px 22px;display:block;height:46px;width:49px;margin-right:23px}.sc-classic .header__logoLink{background-image:url(https://a-v2.sndcdn.com/assets/images/header/cloud-e365a472bf.png);background-position-x:12px;background-size:48px 22px;width:69px;margin-right:unset}.sc-classic .header__logoLink svg{display:none}.header__logoLink:focus{background-color:rgba(255,72,0,.8);outline:0}#header__loading{margin:13px auto 0;width:16px;background:url(https://a-v2.sndcdn.com/assets/images/loader-dark-45940ae3d4.gif) center no-repeat;background-size:16px 16px}@media (-webkit-min-device-pixel-ratio:2),(min-resolution:192dpi),(min-resolution:2dppx){.sc-classic .header__logoLink{background-image:url(https://a-v2.sndcdn.com/assets/images/header/cloud@2x-e5fba4606d.png)}}\n",
      "   </style>\n",
      "   <div class=\"header sc-selection-disabled show fixed g-dark g-z-index-header\" role=\"banner\">\n",
      "    <div class=\"header__inner l-container l-fullwidth\">\n",
      "     <div class=\"header__left left\">\n",
      "      <div class=\"header__logo left\">\n",
      "       <a class=\"header__logoLink sc-border-box sc-ir\" href=\"/\" title=\"Home\">\n",
      "        <svg aria-hidden=\"true\" viewbox=\"0 0 143 64\" xmlns=\"http://www.w3.org/2000/svg\">\n",
      "         <path d=\"M308.984235,1169.99251 C308.382505,1180.70295 299.444837,1189.03525 288.718543,1188.88554 L240.008437,1188.88554 C237.777524,1188.86472 235.977065,1187.05577 235.966737,1184.82478 L235.966737,1132.37801 C235.894282,1130.53582 236.962478,1128.83883 238.654849,1128.10753 C238.654849,1128.10753 243.135035,1124.99996 252.572022,1124.99996 C258.337036,1124.99309 263.996267,1126.54789 268.948531,1129.49925 C276.76341,1134.09703 282.29495,1141.75821 284.200228,1150.62285 C285.880958,1150.14737 287.620063,1149.90993 289.36674,1149.91746 C294.659738,1149.88414 299.738952,1152.0036 303.438351,1155.78928 C307.13775,1159.57496 309.139562,1164.70168 308.984235,1169.99251 Z M229.885123,1135.69525 C231.353099,1153.48254 232.420718,1169.70654 229.885123,1187.43663 C229.796699,1188.23857 229.119091,1188.84557 228.312292,1188.84557 C227.505494,1188.84557 226.827885,1188.23857 226.739461,1187.43663 C224.375448,1169.85905 225.404938,1153.33003 226.739461,1135.69525 C226.672943,1135.09199 226.957336,1134.50383 227.471487,1134.18133 C227.985639,1133.85884 228.638946,1133.85884 229.153097,1134.18133 C229.667248,1134.50383 229.951641,1135.09199 229.885123,1135.69525 Z M220.028715,1187.4557 C219.904865,1188.26549 219.208361,1188.86356 218.389157,1188.86356 C217.569953,1188.86356 216.87345,1188.26549 216.7496,1187.4557 C214.986145,1172.28686 214.986145,1156.96477 216.7496,1141.79593 C216.840309,1140.9535 217.551388,1140.31488 218.398689,1140.31488 C219.245991,1140.31488 219.95707,1140.9535 220.047779,1141.79593 C222.005153,1156.95333 221.998746,1172.29994 220.028715,1187.4557 Z M210.153241,1140.2517 C211.754669,1156.55195 212.479125,1171.15545 210.134176,1187.41757 C210.134176,1188.29148 209.425728,1188.99993 208.551813,1188.99993 C207.677898,1188.99993 206.969449,1188.29148 206.969449,1187.41757 C204.70076,1171.36516 205.463344,1156.34224 206.969449,1140.2517 C207.05845,1139.43964 207.744425,1138.82474 208.561345,1138.82474 C209.378266,1138.82474 210.06424,1139.43964 210.153241,1140.2517 Z M200.258703,1187.47476 C200.169129,1188.29694 199.474788,1188.91975 198.647742,1188.91975 C197.820697,1188.91975 197.126356,1188.29694 197.036782,1187.47476 C195.216051,1173.32359 195.216051,1158.99744 197.036782,1144.84627 C197.036782,1143.94077 197.770837,1143.20671 198.676339,1143.20671 C199.581842,1143.20671 200.315897,1143.94077 200.315897,1144.84627 C202.251054,1158.99121 202.231809,1173.33507 200.258703,1187.47476 Z M190.383229,1155.50339 C192.880695,1166.56087 191.755882,1176.32196 190.287906,1187.58915 C190.168936,1188.33924 189.522207,1188.89148 188.762737,1188.89148 C188.003266,1188.89148 187.356537,1188.33924 187.237567,1187.58915 C185.903044,1176.47448 184.797296,1166.48462 187.142244,1155.50339 C187.142244,1154.60842 187.867763,1153.8829 188.762737,1153.8829 C189.65771,1153.8829 190.383229,1154.60842 190.383229,1155.50339 Z M180.526821,1153.82571 C182.814575,1165.15009 182.071055,1174.7396 180.469627,1186.10211 C180.27898,1187.7798 177.400223,1187.79886 177.247706,1186.10211 C175.798795,1174.91118 175.112468,1165.0357 177.190512,1153.82571 C177.281785,1152.97315 178.001234,1152.32661 178.858666,1152.32661 C179.716099,1152.32661 180.435548,1152.97315 180.526821,1153.82571 Z M170.575089,1159.31632 C172.977231,1166.82778 172.157452,1172.92846 170.479765,1180.63056 C170.391921,1181.42239 169.722678,1182.02149 168.925999,1182.02149 C168.12932,1182.02149 167.460077,1181.42239 167.372232,1180.63056 C165.923321,1173.08097 165.332318,1166.84684 167.23878,1159.31632 C167.330053,1158.46376 168.049502,1157.81722 168.906934,1157.81722 C169.764367,1157.81722 170.483816,1158.46376 170.575089,1159.31632 Z\" fill=\"currentColor\" transform=\"translate(-166.000000, -1125.000000)\">\n",
      "         </path>\n",
      "        </svg>\n",
      "        SoundCloud\n",
      "       </a>\n",
      "      </div>\n",
      "     </div>\n",
      "     <div class=\"sc-hidden\" id=\"header__loading\">\n",
      "     </div>\n",
      "    </div>\n",
      "   </div>\n",
      "   <script>\n",
      "    window.setTimeout((function(){if(!window.__sc_abortApp){var e=window.document.getElementById(\"header__loading\");e&&(e.className=\"\")}}),6e3)\n",
      "   </script>\n",
      "   <style>\n",
      "    .errorPage__inner{width:580px;margin:0 auto;position:relative;padding-top:460px;background:url(https://a-v2.sndcdn.com/assets/images/errors/500-e5a180b7a8.png) no-repeat 50% 80px;text-align:center;transition:all 1s linear}.errorTitle{margin-bottom:10px;font-size:30px}.errorText{line-height:28px;color:#666;font-size:20px}.errorButtons{margin-top:30px}@media (max-width:1280px){.errorPage__inner{background-size:80%}}\n",
      "   </style>\n",
      "   <noscript class=\"errorPage__inner\">\n",
      "    <div class=\"errorPage__inner\">\n",
      "     <p class=\"errorTitle\">\n",
      "      JavaScript is disabled\n",
      "     </p>\n",
      "     <p class=\"errorText sc-font-light\">\n",
      "      You need to enable JavaScript to use SoundCloud\n",
      "     </p>\n",
      "     <div class=\"errorButtons\">\n",
      "      <a class=\"sc-button sc-button-medium\" href=\"http://www.enable-javascript.com/\" target=\"_blank\">\n",
      "       Show me how to enable it\n",
      "      </a>\n",
      "     </div>\n",
      "    </div>\n",
      "   </noscript>\n",
      "   <noscript>\n",
      "   </noscript>\n",
      "   <style>\n",
      "    #updateBrowserMessage{width:600px;margin:0 auto;position:relative;padding-top:410px;background:url(https://a-v2.sndcdn.com/assets/images/errors/browser-9cdd4e6df7.png) no-repeat 50% 130px;text-align:center;display:none}#updateBrowserMessage .messageText{line-height:26px;font-size:20px;margin-bottom:5px}#updateBrowserMessage .downloadLinks{margin-top:0}\n",
      "   </style>\n",
      "   <div id=\"updateBrowserMessage\">\n",
      "    <p class=\"messageText sc-text-light sc-text-secondary\">\n",
      "     Your current browser isn't compatible with SoundCloud.\n",
      "     <br/>\n",
      "     Please download one of our supported browsers.\n",
      "     <a href=\"https://help.soundcloud.com/hc/articles/115003564308-Technical-requirements\">\n",
      "      Need help?\n",
      "     </a>\n",
      "    </p>\n",
      "    <div class=\"downloadLinks sc-type-h3 sc-text-h3 sc-text-light sc-text-secondary\">\n",
      "     <a href=\"http://google.com/chrome\" target=\"_blank\" title=\"Chrome\">\n",
      "      Chrome\n",
      "     </a>\n",
      "     |\n",
      "     <a href=\"http://firefox.com\" target=\"_blank\" title=\"Firefox\">\n",
      "      Firefox\n",
      "     </a>\n",
      "     |\n",
      "     <a href=\"http://apple.com/safari\" target=\"_blank\" title=\"Safari\">\n",
      "      Safari\n",
      "     </a>\n",
      "     |\n",
      "     <a href=\"http://windows.microsoft.com/ie\" target=\"_blank\" title=\"Internet Explorer\">\n",
      "      Internet Explorer\n",
      "     </a>\n",
      "    </div>\n",
      "   </div>\n",
      "   <script>\n",
      "    window.__sc_abortApp&&(window.document.getElementById(\"updateBrowserMessage\").style.display=\"block\")\n",
      "   </script>\n",
      "   <div class=\"errorPage__inner sc-hidden\" id=\"error__timeout\">\n",
      "    <p class=\"errorTitle sc-type-h1 sc-text-h1\">\n",
      "     Sorry! Something went wrong\n",
      "    </p>\n",
      "    <div class=\"errorText sc-font-light\">\n",
      "     <p>\n",
      "      Is your network connection unstable or browser outdated?\n",
      "     </p>\n",
      "    </div>\n",
      "    <div class=\"errorButtons\">\n",
      "     <a class=\"sc-button\" href=\"https://help.soundcloud.com\" id=\"try-again\" target=\"_blank\">\n",
      "      I need help\n",
      "     </a>\n",
      "    </div>\n",
      "   </div>\n",
      "   <script>\n",
      "    function displayError(){if(!window.__sc_abortApp){var r=window.document,e=r.getElementById(\"error__timeout\"),o=r.getElementById(\"header__loading\");e&&o&&(e.className=\"errorPage__inner\",o.className=\"sc-hidden\")}}window.setTimeout(displayError,15e3),window.onerror=displayError\n",
      "   </script>\n",
      "   <p>\n",
      "    <a href=\"/popular/searches\" title=\"Popular searches\">\n",
      "     Popular searches\n",
      "    </a>\n",
      "   </p>\n",
      "  </div>\n",
      "  <script crossorigin=\"\" src=\"https://a-v2.sndcdn.com/assets/52-35c65882.js\">\n",
      "  </script>\n",
      "  <script crossorigin=\"\" src=\"https://a-v2.sndcdn.com/assets/50-8363a3c5.js\">\n",
      "  </script>\n",
      "  <script charset=\"UTF-8\" data-document-language=\"true\" data-domain-script=\"7e62c772-c97a-4d95-8d0a-f99bbeadcf61\" src=\"https://cdn.cookielaw.org/consent/7e62c772-c97a-4d95-8d0a-f99bbeadcf61/otSDKStub.js\" type=\"text/javascript\">\n",
      "  </script>\n",
      "  <style>\n",
      "   body.ot-hide-banner #onetrust-banner-sdk {\n",
      "    visibility: hidden;\n",
      "    transform: translateY(110%);\n",
      "  }\n",
      "  #onetrust-banner-sdk {\n",
      "    transition: transform 1s ease 200ms;\n",
      "    transform: translateY(0%);\n",
      "  }\n",
      "  body.ot-hide-banner .onetrust-pc-dark-filter {\n",
      "    background: initial;\n",
      "    width: initial;\n",
      "    height: initial;\n",
      "    overflow: initial;\n",
      "    position: initial;\n",
      "  }\n",
      "  </style>\n",
      "  <script type=\"text/javascript\">\n",
      "   (function (global) {\n",
      "    function OptanonWrapper() {\n",
      "      var activeGroups = (global.OptanonActiveGroups || '').split(',');\n",
      "\n",
      "      if (Array.isArray(OptanonWrapper.callbacks)) {\n",
      "        for (var i = 0, max = OptanonWrapper.callbacks.length; i < max; i++) {\n",
      "          try {\n",
      "            OptanonWrapper.callbacks[i](activeGroups);\n",
      "          } catch (e) {}\n",
      "        }\n",
      "      }\n",
      "\n",
      "      OptanonWrapper.isLoaded = true;\n",
      "    };\n",
      "\n",
      "    OptanonWrapper.callbacks = [];\n",
      "    OptanonWrapper.isLoaded = false;\n",
      "\n",
      "    global.OptanonWrapper = OptanonWrapper;\n",
      "  }(window));\n",
      "  </script>\n",
      "  <script>\n",
      "   window.__sc_version=\"1645524428\"\n",
      "  </script>\n",
      "  <script>\n",
      "   window.__sc_hydration = [{\"hydratable\":\"anonymousId\",\"data\":\"293152-713236-836954-765667\"},{\"hydratable\":\"features\",\"data\":{\"features\":[\"mobi_use_onetrust_gb\",\"v2_enable_sourcepoint_tcfv2\",\"mobi_social_sharing\",\"mobi_use_onetrust_tcfv2_eu2\",\"v2_use_onetrust_tcfv2_eu1\",\"v2_popular_tags\",\"v2_enable_onetrust\",\"v2_use_onetrust_eu2\",\"v2_use_onetrust_us\",\"v2_tags_recent_tracks\",\"use_recurly_checkout\",\"mobi_enable_onetrust_tcfv2\",\"mobi_use_onetrust_eu1\",\"mobi_use_onetrust_tcfv2_eu1\",\"v2_post_with_caption\",\"mobi_use_onetrust_eu4\",\"featured_artists_banner\",\"v2_repost_redirect_page\",\"v2_use_onetrust_gb\",\"v2_signals_collection\",\"v2_direct_support_link\",\"v2_hq_file_storage_release\",\"v2_use_onetrust_eu4\",\"v2_stories_onboarding\",\"mobi_use_onetrust_eu3\",\"mobi_use_onetrust_elsewhere\",\"v2_use_onetrust_eu3\",\"mobi_use_onetrust_us\",\"v2_oscp_german_tax_fields_support\",\"v2_use_new_connect\",\"v2_use_onetrust_tcfv2_eu2\",\"v2_use_onetrust_eu1\",\"v2_enable_sourcepoint\",\"mobi_use_onetrust_eu2\",\"v2_enable_new_web_errors\",\"v2_use_onetrust_elsewhere\",\"mobi_sign_in_experiment\",\"mobi_enable_onetrust\",\"v2_can_see_insights\",\"mobi_trinity\",\"v2_google_one_tap\",\"v2_enable_pwa\",\"mobi_use_hls_hack\",\"v2_stories\",\"v2_enable_onetrust_tcfv2\",\"v2_enable_tcfv2_consent_string_cache\"]}},{\"hydratable\":\"experiments\",\"data\":{}},{\"hydratable\":\"geoip\",\"data\":{\"country_code\":\"IN\",\"country_name\":\"India\",\"region\":\"24\",\"city\":\"Jaipur\",\"postal_code\":\"302021\",\"latitude\":26.952499389648438,\"longitude\":75.71049499511719}},{\"hydratable\":\"privacySettings\",\"data\":{\"allows_messages_from_unfollowed_users\":false,\"analytics_opt_in\":true,\"communications_opt_in\":true,\"targeted_advertising_opt_in\":false,\"legislation\":[]}},{\"hydratable\":\"trackingBrowserTabId\",\"data\":\"8dd6fc\"}];\n",
      "  </script>\n",
      "  <script crossorigin=\"\" src=\"https://a-v2.sndcdn.com/assets/15-f372e6cd.js\">\n",
      "  </script>\n",
      "  <script crossorigin=\"\" src=\"https://a-v2.sndcdn.com/assets/51-461b55fb.js\">\n",
      "  </script>\n",
      "  <script crossorigin=\"\" src=\"https://a-v2.sndcdn.com/assets/1-8324b005.js\">\n",
      "  </script>\n",
      "  <script crossorigin=\"\" src=\"https://a-v2.sndcdn.com/assets/3-f1e7fb77.js\">\n",
      "  </script>\n",
      "  <script crossorigin=\"\" src=\"https://a-v2.sndcdn.com/assets/2-bd424491.js\">\n",
      "  </script>\n",
      "  <script crossorigin=\"\" src=\"https://a-v2.sndcdn.com/assets/0-e2af7fad.js\">\n",
      "  </script>\n",
      "  <script crossorigin=\"\" src=\"https://a-v2.sndcdn.com/assets/49-8fa8afaa.js\">\n",
      "  </script>\n",
      " </body>\n",
      "</html>\n",
      "\n"
     ]
    }
   ],
   "source": [
    "soup = bs(response.text,'html.parser')\n",
    "print(soup.prettify())"
   ]
  },
  {
   "cell_type": "code",
   "execution_count": 32,
   "metadata": {},
   "outputs": [
    {
     "name": "stdout",
     "output_type": "stream",
     "text": [
      "<title>Stream and listen to music online for free with SoundCloud</title>\n"
     ]
    }
   ],
   "source": [
    "print(soup.title)"
   ]
  },
  {
   "cell_type": "code",
   "execution_count": 33,
   "metadata": {},
   "outputs": [
    {
     "name": "stderr",
     "output_type": "stream",
     "text": [
      "\n",
      "\n",
      "====== WebDriver manager ======\n",
      "Current google-chrome version is 98.0.4758\n",
      "Get LATEST chromedriver version for 98.0.4758 google-chrome\n",
      "Trying to download new driver from https://chromedriver.storage.googleapis.com/98.0.4758.102/chromedriver_win32.zip\n",
      "Driver has been saved in cache [C:\\Users\\saksh\\.wdm\\drivers\\chromedriver\\win32\\98.0.4758.102]\n"
     ]
    }
   ],
   "source": [
    "from splinter import Browser\n",
    "from webdriver_manager.chrome import ChromeDriverManager\n",
    "\n",
    "executable_path = {'executable_path':ChromeDriverManager().install()}\n",
    "browser = Browser('chrome',**executable_path,headless=False)\n"
   ]
  },
  {
   "cell_type": "code",
   "execution_count": 35,
   "metadata": {
    "scrolled": true
   },
   "outputs": [],
   "source": [
    "browser.visit(url)\n",
    "url1 = browser.links.find_by_partial_text('Explore trending playlists').click()"
   ]
  },
  {
   "cell_type": "code",
   "execution_count": 39,
   "metadata": {},
   "outputs": [
    {
     "name": "stdout",
     "output_type": "stream",
     "text": [
      "{1: 'Charts: Top 50', 2: 'Charts: New & hot', 3: 'Party', 4: 'Workout', 5: 'Chill'}\n"
     ]
    }
   ],
   "source": [
    "# looping to print all trending playlists using XPath\n",
    "trending_playlists = {}\n",
    "for i in range(1,6):\n",
    "    playlist = browser.find_by_xpath(f'/html/body/div[1]/div[2]/div[2]/div/div/div[1]/div[3]/div/ul/li[{i}]/div/div[1]/h2').text\n",
    "    trending_playlists[i] = playlist\n",
    "print(trending_playlists)"
   ]
  },
  {
   "cell_type": "code",
   "execution_count": 40,
   "metadata": {},
   "outputs": [],
   "source": [
    "browser.quit()"
   ]
  },
  {
   "cell_type": "code",
   "execution_count": 52,
   "metadata": {},
   "outputs": [
    {
     "data": {
      "text/html": [
       "<div>\n",
       "<style scoped>\n",
       "    .dataframe tbody tr th:only-of-type {\n",
       "        vertical-align: middle;\n",
       "    }\n",
       "\n",
       "    .dataframe tbody tr th {\n",
       "        vertical-align: top;\n",
       "    }\n",
       "\n",
       "    .dataframe thead th {\n",
       "        text-align: right;\n",
       "    }\n",
       "</style>\n",
       "<table border=\"1\" class=\"dataframe\">\n",
       "  <thead>\n",
       "    <tr style=\"text-align: right;\">\n",
       "      <th></th>\n",
       "      <th>Playlists</th>\n",
       "    </tr>\n",
       "  </thead>\n",
       "  <tbody>\n",
       "    <tr>\n",
       "      <th>1</th>\n",
       "      <td>Charts: Top 50</td>\n",
       "    </tr>\n",
       "    <tr>\n",
       "      <th>2</th>\n",
       "      <td>Charts: New &amp; hot</td>\n",
       "    </tr>\n",
       "    <tr>\n",
       "      <th>3</th>\n",
       "      <td>Party</td>\n",
       "    </tr>\n",
       "    <tr>\n",
       "      <th>4</th>\n",
       "      <td>Workout</td>\n",
       "    </tr>\n",
       "    <tr>\n",
       "      <th>5</th>\n",
       "      <td>Chill</td>\n",
       "    </tr>\n",
       "  </tbody>\n",
       "</table>\n",
       "</div>"
      ],
      "text/plain": [
       "           Playlists\n",
       "1     Charts: Top 50\n",
       "2  Charts: New & hot\n",
       "3              Party\n",
       "4            Workout\n",
       "5              Chill"
      ]
     },
     "execution_count": 52,
     "metadata": {},
     "output_type": "execute_result"
    }
   ],
   "source": [
    "trending_playlists_df = pd.DataFrame.from_dict(trending_playlists, orient='index', columns=['Playlists'])\n",
    "trending_playlists_df"
   ]
  },
  {
   "cell_type": "markdown",
   "metadata": {},
   "source": [
    "#### 2. Share with your group how web scraping worked on the website and link you chose. Compare it with others. List the site you chose and two observations about parsing the website. Indicate if this was the same or different for the sites chosen by others."
   ]
  },
  {
   "cell_type": "markdown",
   "metadata": {},
   "source": [
    "* We used the soundcloud.com website and pulled the first 5 charts from the 'Explore trending playlists' page.\n",
    "* While discovering other sites, especially 'mercadolibre.com.mx' we discovered that the content on page changed dynamically as per our clicks and hence it was difficult initally to extract the data and determine if we are getting same results. This is when we decided to swicth to soundcloud and eventually realized that using Xpath was an efficient way to get the desired data."
   ]
  },
  {
   "cell_type": "code",
   "execution_count": null,
   "metadata": {},
   "outputs": [],
   "source": []
  }
 ],
 "metadata": {
  "kernelspec": {
   "display_name": "Python 3 (ipykernel)",
   "language": "python",
   "name": "python3"
  },
  "language_info": {
   "codemirror_mode": {
    "name": "ipython",
    "version": 3
   },
   "file_extension": ".py",
   "mimetype": "text/x-python",
   "name": "python",
   "nbconvert_exporter": "python",
   "pygments_lexer": "ipython3",
   "version": "3.8.10"
  }
 },
 "nbformat": 4,
 "nbformat_minor": 4
}
